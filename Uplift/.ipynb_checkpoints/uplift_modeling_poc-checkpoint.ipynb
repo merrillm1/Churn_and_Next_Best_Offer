{
 "cells": [
  {
   "cell_type": "markdown",
   "metadata": {},
   "source": [
    "# Uplift Modeling"
   ]
  },
  {
   "cell_type": "code",
   "execution_count": 82,
   "metadata": {},
   "outputs": [],
   "source": [
    "import numpy as np\n",
    "import pandas as pd\n",
    "import matplotlib.pyplot as plt\n",
    "import seaborn as sns\n",
    "%matplotlib inline\n",
    "\n",
    "# import appropriate statistical modules\n",
    "from scipy.stats import chisquare\n",
    "from scipy.stats import chi2\n",
    "from scipy.stats import chi2_contingency\n",
    "from scipy.stats import norm\n",
    "from scipy.stats import t\n",
    "from numpy.random import seed\n",
    "from scipy import stats\n",
    "from statsmodels.stats.proportion import proportions_ztest\n",
    "\n",
    "from sklearn.model_selection import train_test_split"
   ]
  },
  {
   "cell_type": "code",
   "execution_count": 83,
   "metadata": {},
   "outputs": [],
   "source": [
    "pd.set_option('display.max_columns', None)\n",
    "df = pd.read_csv('marketing_data/data.csv', low_memory=False)"
   ]
  },
  {
   "cell_type": "code",
   "execution_count": 84,
   "metadata": {},
   "outputs": [
    {
     "name": "stdout",
     "output_type": "stream",
     "text": [
      "<class 'pandas.core.frame.DataFrame'>\n",
      "RangeIndex: 64000 entries, 0 to 63999\n",
      "Data columns (total 9 columns):\n",
      " #   Column         Non-Null Count  Dtype  \n",
      "---  ------         --------------  -----  \n",
      " 0   recency        64000 non-null  int64  \n",
      " 1   history        64000 non-null  float64\n",
      " 2   used_discount  64000 non-null  int64  \n",
      " 3   used_bogo      64000 non-null  int64  \n",
      " 4   zip_code       64000 non-null  object \n",
      " 5   is_referral    64000 non-null  int64  \n",
      " 6   channel        64000 non-null  object \n",
      " 7   offer          64000 non-null  object \n",
      " 8   conversion     64000 non-null  int64  \n",
      "dtypes: float64(1), int64(5), object(3)\n",
      "memory usage: 4.4+ MB\n",
      "None\n"
     ]
    },
    {
     "data": {
      "text/html": [
       "<div>\n",
       "<style scoped>\n",
       "    .dataframe tbody tr th:only-of-type {\n",
       "        vertical-align: middle;\n",
       "    }\n",
       "\n",
       "    .dataframe tbody tr th {\n",
       "        vertical-align: top;\n",
       "    }\n",
       "\n",
       "    .dataframe thead th {\n",
       "        text-align: right;\n",
       "    }\n",
       "</style>\n",
       "<table border=\"1\" class=\"dataframe\">\n",
       "  <thead>\n",
       "    <tr style=\"text-align: right;\">\n",
       "      <th></th>\n",
       "      <th>recency</th>\n",
       "      <th>history</th>\n",
       "      <th>used_discount</th>\n",
       "      <th>used_bogo</th>\n",
       "      <th>zip_code</th>\n",
       "      <th>is_referral</th>\n",
       "      <th>channel</th>\n",
       "      <th>offer</th>\n",
       "      <th>conversion</th>\n",
       "    </tr>\n",
       "  </thead>\n",
       "  <tbody>\n",
       "    <tr>\n",
       "      <th>0</th>\n",
       "      <td>10</td>\n",
       "      <td>142.44</td>\n",
       "      <td>1</td>\n",
       "      <td>0</td>\n",
       "      <td>Surburban</td>\n",
       "      <td>0</td>\n",
       "      <td>Phone</td>\n",
       "      <td>Buy One Get One</td>\n",
       "      <td>0</td>\n",
       "    </tr>\n",
       "    <tr>\n",
       "      <th>1</th>\n",
       "      <td>6</td>\n",
       "      <td>329.08</td>\n",
       "      <td>1</td>\n",
       "      <td>1</td>\n",
       "      <td>Rural</td>\n",
       "      <td>1</td>\n",
       "      <td>Web</td>\n",
       "      <td>No Offer</td>\n",
       "      <td>0</td>\n",
       "    </tr>\n",
       "    <tr>\n",
       "      <th>2</th>\n",
       "      <td>7</td>\n",
       "      <td>180.65</td>\n",
       "      <td>0</td>\n",
       "      <td>1</td>\n",
       "      <td>Surburban</td>\n",
       "      <td>1</td>\n",
       "      <td>Web</td>\n",
       "      <td>Buy One Get One</td>\n",
       "      <td>0</td>\n",
       "    </tr>\n",
       "    <tr>\n",
       "      <th>3</th>\n",
       "      <td>9</td>\n",
       "      <td>675.83</td>\n",
       "      <td>1</td>\n",
       "      <td>0</td>\n",
       "      <td>Rural</td>\n",
       "      <td>1</td>\n",
       "      <td>Web</td>\n",
       "      <td>Discount</td>\n",
       "      <td>0</td>\n",
       "    </tr>\n",
       "    <tr>\n",
       "      <th>4</th>\n",
       "      <td>2</td>\n",
       "      <td>45.34</td>\n",
       "      <td>1</td>\n",
       "      <td>0</td>\n",
       "      <td>Urban</td>\n",
       "      <td>0</td>\n",
       "      <td>Web</td>\n",
       "      <td>Buy One Get One</td>\n",
       "      <td>0</td>\n",
       "    </tr>\n",
       "  </tbody>\n",
       "</table>\n",
       "</div>"
      ],
      "text/plain": [
       "   recency  history  used_discount  used_bogo   zip_code  is_referral channel  \\\n",
       "0       10   142.44              1          0  Surburban            0   Phone   \n",
       "1        6   329.08              1          1      Rural            1     Web   \n",
       "2        7   180.65              0          1  Surburban            1     Web   \n",
       "3        9   675.83              1          0      Rural            1     Web   \n",
       "4        2    45.34              1          0      Urban            0     Web   \n",
       "\n",
       "             offer  conversion  \n",
       "0  Buy One Get One           0  \n",
       "1         No Offer           0  \n",
       "2  Buy One Get One           0  \n",
       "3         Discount           0  \n",
       "4  Buy One Get One           0  "
      ]
     },
     "execution_count": 84,
     "metadata": {},
     "output_type": "execute_result"
    }
   ],
   "source": [
    "print(df.info())\n",
    "df.head()"
   ]
  },
  {
   "cell_type": "code",
   "execution_count": 85,
   "metadata": {},
   "outputs": [],
   "source": [
    "# let's define churn as a customer who has not purchased in the last 6 months\n",
    "df['churn'] = df.recency.apply(lambda x: 1 if (x > 6) else 0)\n",
    "df['treatment'] = df.offer.apply(lambda x: 1 if x != 'No Offer' else 0)"
   ]
  },
  {
   "cell_type": "code",
   "execution_count": 86,
   "metadata": {
    "scrolled": true
   },
   "outputs": [
    {
     "data": {
      "text/plain": [
       "count    64000.000000\n",
       "mean         0.667094\n",
       "std          0.471257\n",
       "min          0.000000\n",
       "25%          0.000000\n",
       "50%          1.000000\n",
       "75%          1.000000\n",
       "max          1.000000\n",
       "Name: treatment, dtype: float64"
      ]
     },
     "execution_count": 86,
     "metadata": {},
     "output_type": "execute_result"
    }
   ],
   "source": [
    "df.treatment.describe()"
   ]
  },
  {
   "cell_type": "code",
   "execution_count": 87,
   "metadata": {},
   "outputs": [],
   "source": [
    "def offer_conversion(df):\n",
    "    if (df['offer'] != 'No Offer') & (df['conversion'] == 1):\n",
    "        return 1\n",
    "    else:\n",
    "        return 0\n",
    "\n",
    "def no_offer_conversion(df):\n",
    "    if (df['offer'] == 'No Offer') & (df['conversion'] == 1):\n",
    "        return 1\n",
    "    else:\n",
    "        return 0"
   ]
  },
  {
   "cell_type": "code",
   "execution_count": 88,
   "metadata": {},
   "outputs": [],
   "source": [
    "#df['convert_with_offer'] = df.apply(offer_conversion, axis=1)\n",
    "#df['convert_no_offer'] = df.apply(no_offer_conversion, axis=1)"
   ]
  },
  {
   "cell_type": "code",
   "execution_count": 89,
   "metadata": {},
   "outputs": [
    {
     "data": {
      "text/html": [
       "<div>\n",
       "<style scoped>\n",
       "    .dataframe tbody tr th:only-of-type {\n",
       "        vertical-align: middle;\n",
       "    }\n",
       "\n",
       "    .dataframe tbody tr th {\n",
       "        vertical-align: top;\n",
       "    }\n",
       "\n",
       "    .dataframe thead th {\n",
       "        text-align: right;\n",
       "    }\n",
       "</style>\n",
       "<table border=\"1\" class=\"dataframe\">\n",
       "  <thead>\n",
       "    <tr style=\"text-align: right;\">\n",
       "      <th></th>\n",
       "      <th>count</th>\n",
       "      <th>mean</th>\n",
       "      <th>std</th>\n",
       "      <th>min</th>\n",
       "      <th>25%</th>\n",
       "      <th>50%</th>\n",
       "      <th>75%</th>\n",
       "      <th>max</th>\n",
       "    </tr>\n",
       "  </thead>\n",
       "  <tbody>\n",
       "    <tr>\n",
       "      <th>recency</th>\n",
       "      <td>64000.0</td>\n",
       "      <td>5.763734</td>\n",
       "      <td>3.507592</td>\n",
       "      <td>1.00</td>\n",
       "      <td>2.00</td>\n",
       "      <td>6.00</td>\n",
       "      <td>9.0000</td>\n",
       "      <td>12.00</td>\n",
       "    </tr>\n",
       "    <tr>\n",
       "      <th>history</th>\n",
       "      <td>64000.0</td>\n",
       "      <td>242.085656</td>\n",
       "      <td>256.158608</td>\n",
       "      <td>29.99</td>\n",
       "      <td>64.66</td>\n",
       "      <td>158.11</td>\n",
       "      <td>325.6575</td>\n",
       "      <td>3345.93</td>\n",
       "    </tr>\n",
       "    <tr>\n",
       "      <th>used_discount</th>\n",
       "      <td>64000.0</td>\n",
       "      <td>0.551031</td>\n",
       "      <td>0.497393</td>\n",
       "      <td>0.00</td>\n",
       "      <td>0.00</td>\n",
       "      <td>1.00</td>\n",
       "      <td>1.0000</td>\n",
       "      <td>1.00</td>\n",
       "    </tr>\n",
       "    <tr>\n",
       "      <th>used_bogo</th>\n",
       "      <td>64000.0</td>\n",
       "      <td>0.549719</td>\n",
       "      <td>0.497526</td>\n",
       "      <td>0.00</td>\n",
       "      <td>0.00</td>\n",
       "      <td>1.00</td>\n",
       "      <td>1.0000</td>\n",
       "      <td>1.00</td>\n",
       "    </tr>\n",
       "    <tr>\n",
       "      <th>is_referral</th>\n",
       "      <td>64000.0</td>\n",
       "      <td>0.502250</td>\n",
       "      <td>0.499999</td>\n",
       "      <td>0.00</td>\n",
       "      <td>0.00</td>\n",
       "      <td>1.00</td>\n",
       "      <td>1.0000</td>\n",
       "      <td>1.00</td>\n",
       "    </tr>\n",
       "    <tr>\n",
       "      <th>conversion</th>\n",
       "      <td>64000.0</td>\n",
       "      <td>0.146781</td>\n",
       "      <td>0.353890</td>\n",
       "      <td>0.00</td>\n",
       "      <td>0.00</td>\n",
       "      <td>0.00</td>\n",
       "      <td>0.0000</td>\n",
       "      <td>1.00</td>\n",
       "    </tr>\n",
       "    <tr>\n",
       "      <th>churn</th>\n",
       "      <td>64000.0</td>\n",
       "      <td>0.428359</td>\n",
       "      <td>0.494845</td>\n",
       "      <td>0.00</td>\n",
       "      <td>0.00</td>\n",
       "      <td>0.00</td>\n",
       "      <td>1.0000</td>\n",
       "      <td>1.00</td>\n",
       "    </tr>\n",
       "    <tr>\n",
       "      <th>treatment</th>\n",
       "      <td>64000.0</td>\n",
       "      <td>0.667094</td>\n",
       "      <td>0.471257</td>\n",
       "      <td>0.00</td>\n",
       "      <td>0.00</td>\n",
       "      <td>1.00</td>\n",
       "      <td>1.0000</td>\n",
       "      <td>1.00</td>\n",
       "    </tr>\n",
       "  </tbody>\n",
       "</table>\n",
       "</div>"
      ],
      "text/plain": [
       "                 count        mean         std    min    25%     50%  \\\n",
       "recency        64000.0    5.763734    3.507592   1.00   2.00    6.00   \n",
       "history        64000.0  242.085656  256.158608  29.99  64.66  158.11   \n",
       "used_discount  64000.0    0.551031    0.497393   0.00   0.00    1.00   \n",
       "used_bogo      64000.0    0.549719    0.497526   0.00   0.00    1.00   \n",
       "is_referral    64000.0    0.502250    0.499999   0.00   0.00    1.00   \n",
       "conversion     64000.0    0.146781    0.353890   0.00   0.00    0.00   \n",
       "churn          64000.0    0.428359    0.494845   0.00   0.00    0.00   \n",
       "treatment      64000.0    0.667094    0.471257   0.00   0.00    1.00   \n",
       "\n",
       "                    75%      max  \n",
       "recency          9.0000    12.00  \n",
       "history        325.6575  3345.93  \n",
       "used_discount    1.0000     1.00  \n",
       "used_bogo        1.0000     1.00  \n",
       "is_referral      1.0000     1.00  \n",
       "conversion       0.0000     1.00  \n",
       "churn            1.0000     1.00  \n",
       "treatment        1.0000     1.00  "
      ]
     },
     "execution_count": 89,
     "metadata": {},
     "output_type": "execute_result"
    }
   ],
   "source": [
    "df.describe(include='number').T"
   ]
  },
  {
   "cell_type": "code",
   "execution_count": 90,
   "metadata": {},
   "outputs": [
    {
     "data": {
      "text/html": [
       "<div>\n",
       "<style scoped>\n",
       "    .dataframe tbody tr th:only-of-type {\n",
       "        vertical-align: middle;\n",
       "    }\n",
       "\n",
       "    .dataframe tbody tr th {\n",
       "        vertical-align: top;\n",
       "    }\n",
       "\n",
       "    .dataframe thead th {\n",
       "        text-align: right;\n",
       "    }\n",
       "</style>\n",
       "<table border=\"1\" class=\"dataframe\">\n",
       "  <thead>\n",
       "    <tr style=\"text-align: right;\">\n",
       "      <th></th>\n",
       "      <th>count</th>\n",
       "      <th>unique</th>\n",
       "      <th>top</th>\n",
       "      <th>freq</th>\n",
       "    </tr>\n",
       "  </thead>\n",
       "  <tbody>\n",
       "    <tr>\n",
       "      <th>zip_code</th>\n",
       "      <td>64000</td>\n",
       "      <td>3</td>\n",
       "      <td>Surburban</td>\n",
       "      <td>28776</td>\n",
       "    </tr>\n",
       "    <tr>\n",
       "      <th>channel</th>\n",
       "      <td>64000</td>\n",
       "      <td>3</td>\n",
       "      <td>Web</td>\n",
       "      <td>28217</td>\n",
       "    </tr>\n",
       "    <tr>\n",
       "      <th>offer</th>\n",
       "      <td>64000</td>\n",
       "      <td>3</td>\n",
       "      <td>Buy One Get One</td>\n",
       "      <td>21387</td>\n",
       "    </tr>\n",
       "  </tbody>\n",
       "</table>\n",
       "</div>"
      ],
      "text/plain": [
       "          count unique              top   freq\n",
       "zip_code  64000      3        Surburban  28776\n",
       "channel   64000      3              Web  28217\n",
       "offer     64000      3  Buy One Get One  21387"
      ]
     },
     "execution_count": 90,
     "metadata": {},
     "output_type": "execute_result"
    }
   ],
   "source": [
    "df.describe(exclude='number').T"
   ]
  },
  {
   "cell_type": "code",
   "execution_count": 91,
   "metadata": {},
   "outputs": [
    {
     "data": {
      "text/plain": [
       "(array([0.5, 1.5, 2.5, 3.5, 4.5, 5.5, 6.5, 7.5]),\n",
       " [Text(0, 0.5, 'recency'),\n",
       "  Text(0, 1.5, 'history'),\n",
       "  Text(0, 2.5, 'used_discount'),\n",
       "  Text(0, 3.5, 'used_bogo'),\n",
       "  Text(0, 4.5, 'is_referral'),\n",
       "  Text(0, 5.5, 'conversion'),\n",
       "  Text(0, 6.5, 'churn'),\n",
       "  Text(0, 7.5, 'treatment')])"
      ]
     },
     "execution_count": 91,
     "metadata": {},
     "output_type": "execute_result"
    },
    {
     "data": {
      "image/png": "[encoded data removed]",
      "text/plain": [
       "<Figure size 1440x1080 with 2 Axes>"
      ]
     },
     "metadata": {},
     "output_type": "display_data"
    }
   ],
   "source": [
    "plt.style.use('ggplot')\n",
    "sns.set_style('whitegrid')\n",
    "plt.subplots(figsize = (20,15))\n",
    "## Plotting heatmap. \n",
    "\n",
    "# Generate a mask for the upper triangle (taken from seaborn example gallery)\n",
    "mask = np.zeros_like(df.corr(), dtype=np.bool)\n",
    "mask[np.triu_indices_from(mask)] = True\n",
    "\n",
    "\n",
    "sns.heatmap(df.corr(), cmap=sns.diverging_palette(20, 220, n=200), annot=True, mask=mask, center = 0, )\n",
    "plt.title(\"Heatmap of all features\", fontsize = 30)\n",
    "plt.yticks(rotation=0)"
   ]
  },
  {
   "cell_type": "markdown",
   "metadata": {},
   "source": [
    "> We can see from the correlation matrix above that referred customers are more likely to have a greater purchase history, customers with greater purchase history are also more likely to use discounts, and churn is negatively correlated with purchase history. All correlations are somewhat expected. "
   ]
  },
  {
   "cell_type": "code",
   "execution_count": 92,
   "metadata": {},
   "outputs": [
    {
     "name": "stdout",
     "output_type": "stream",
     "text": [
      "Percentage of customers that convert: 14.7%\n",
      "Percentage of treated customers that convert: 16.7%\n"
     ]
    }
   ],
   "source": [
    "print('Percentage of customers that convert: {}%'.format(100*round(df['conversion'].mean(),3)))\n",
    "print('Percentage of treated customers that convert: {}%'.format(100*round(df[df[\"treatment\"]==1][\"conversion\"].mean(),3)))"
   ]
  },
  {
   "cell_type": "code",
   "execution_count": 93,
   "metadata": {},
   "outputs": [
    {
     "data": {
      "text/html": [
       "<div>\n",
       "<style scoped>\n",
       "    .dataframe tbody tr th:only-of-type {\n",
       "        vertical-align: middle;\n",
       "    }\n",
       "\n",
       "    .dataframe tbody tr th {\n",
       "        vertical-align: top;\n",
       "    }\n",
       "\n",
       "    .dataframe thead tr th {\n",
       "        text-align: left;\n",
       "    }\n",
       "\n",
       "    .dataframe thead tr:last-of-type th {\n",
       "        text-align: right;\n",
       "    }\n",
       "</style>\n",
       "<table border=\"1\" class=\"dataframe\">\n",
       "  <thead>\n",
       "    <tr>\n",
       "      <th></th>\n",
       "      <th colspan=\"3\" halign=\"left\">conversion</th>\n",
       "    </tr>\n",
       "    <tr>\n",
       "      <th></th>\n",
       "      <th>mean</th>\n",
       "      <th>sum</th>\n",
       "      <th>count</th>\n",
       "    </tr>\n",
       "    <tr>\n",
       "      <th>treatment</th>\n",
       "      <th></th>\n",
       "      <th></th>\n",
       "      <th></th>\n",
       "    </tr>\n",
       "  </thead>\n",
       "  <tbody>\n",
       "    <tr>\n",
       "      <th>0</th>\n",
       "      <td>0.106167</td>\n",
       "      <td>2262</td>\n",
       "      <td>21306</td>\n",
       "    </tr>\n",
       "    <tr>\n",
       "      <th>1</th>\n",
       "      <td>0.167049</td>\n",
       "      <td>7132</td>\n",
       "      <td>42694</td>\n",
       "    </tr>\n",
       "  </tbody>\n",
       "</table>\n",
       "</div>"
      ],
      "text/plain": [
       "          conversion             \n",
       "                mean   sum  count\n",
       "treatment                        \n",
       "0           0.106167  2262  21306\n",
       "1           0.167049  7132  42694"
      ]
     },
     "execution_count": 93,
     "metadata": {},
     "output_type": "execute_result"
    }
   ],
   "source": [
    "con_results_df = df.groupby('treatment').agg({'conversion':['mean', 'sum', 'count']})\n",
    "con_results_df"
   ]
  },
  {
   "cell_type": "markdown",
   "metadata": {},
   "source": [
    "> The treatment does seem to be having a positive result on churn,with an average treatment effect (ATE) of about a 6%. Let's test to see if this value is significant or a likely sampling anomoly."
   ]
  },
  {
   "cell_type": "code",
   "execution_count": 94,
   "metadata": {},
   "outputs": [
    {
     "name": "stdout",
     "output_type": "stream",
     "text": [
      "the p-value is 1.7497869967580046e-93, therefore the results are significant\n"
     ]
    }
   ],
   "source": [
    "# Quick test reveals that the results are significant\n",
    "p_value = proportions_ztest(count=con_results_df[('conversion', 'sum')],\n",
    "                  nobs=con_results_df[('conversion', 'count')])[1]\n",
    "sig_level = 0.05\n",
    "\n",
    "if p_value < sig_level:\n",
    "    print('the p-value is {}, therefore the results are significant'.format(p_value))\n",
    "else:\n",
    "    print('results are not statistically significant')"
   ]
  },
  {
   "cell_type": "code",
   "execution_count": 95,
   "metadata": {},
   "outputs": [
    {
     "data": {
      "text/html": [
       "<div>\n",
       "<style scoped>\n",
       "    .dataframe tbody tr th:only-of-type {\n",
       "        vertical-align: middle;\n",
       "    }\n",
       "\n",
       "    .dataframe tbody tr th {\n",
       "        vertical-align: top;\n",
       "    }\n",
       "\n",
       "    .dataframe thead tr th {\n",
       "        text-align: left;\n",
       "    }\n",
       "\n",
       "    .dataframe thead tr:last-of-type th {\n",
       "        text-align: right;\n",
       "    }\n",
       "</style>\n",
       "<table border=\"1\" class=\"dataframe\">\n",
       "  <thead>\n",
       "    <tr>\n",
       "      <th></th>\n",
       "      <th colspan=\"3\" halign=\"left\">churn</th>\n",
       "    </tr>\n",
       "    <tr>\n",
       "      <th></th>\n",
       "      <th>mean</th>\n",
       "      <th>sum</th>\n",
       "      <th>count</th>\n",
       "    </tr>\n",
       "    <tr>\n",
       "      <th>zip_code</th>\n",
       "      <th></th>\n",
       "      <th></th>\n",
       "      <th></th>\n",
       "    </tr>\n",
       "  </thead>\n",
       "  <tbody>\n",
       "    <tr>\n",
       "      <th>Rural</th>\n",
       "      <td>0.425494</td>\n",
       "      <td>4069</td>\n",
       "      <td>9563</td>\n",
       "    </tr>\n",
       "    <tr>\n",
       "      <th>Surburban</th>\n",
       "      <td>0.433312</td>\n",
       "      <td>12469</td>\n",
       "      <td>28776</td>\n",
       "    </tr>\n",
       "    <tr>\n",
       "      <th>Urban</th>\n",
       "      <td>0.423873</td>\n",
       "      <td>10877</td>\n",
       "      <td>25661</td>\n",
       "    </tr>\n",
       "  </tbody>\n",
       "</table>\n",
       "</div>"
      ],
      "text/plain": [
       "              churn              \n",
       "               mean    sum  count\n",
       "zip_code                         \n",
       "Rural      0.425494   4069   9563\n",
       "Surburban  0.433312  12469  28776\n",
       "Urban      0.423873  10877  25661"
      ]
     },
     "execution_count": 95,
     "metadata": {},
     "output_type": "execute_result"
    }
   ],
   "source": [
    "churn_results_df = df.groupby('zip_code').agg({'churn':['mean', 'sum', 'count']})\n",
    "churn_results_df"
   ]
  },
  {
   "cell_type": "code",
   "execution_count": 96,
   "metadata": {},
   "outputs": [
    {
     "data": {
      "text/html": [
       "<div>\n",
       "<style scoped>\n",
       "    .dataframe tbody tr th:only-of-type {\n",
       "        vertical-align: middle;\n",
       "    }\n",
       "\n",
       "    .dataframe tbody tr th {\n",
       "        vertical-align: top;\n",
       "    }\n",
       "\n",
       "    .dataframe thead tr th {\n",
       "        text-align: left;\n",
       "    }\n",
       "\n",
       "    .dataframe thead tr:last-of-type th {\n",
       "        text-align: right;\n",
       "    }\n",
       "</style>\n",
       "<table border=\"1\" class=\"dataframe\">\n",
       "  <thead>\n",
       "    <tr>\n",
       "      <th></th>\n",
       "      <th colspan=\"3\" halign=\"left\">churn</th>\n",
       "    </tr>\n",
       "    <tr>\n",
       "      <th></th>\n",
       "      <th>mean</th>\n",
       "      <th>sum</th>\n",
       "      <th>count</th>\n",
       "    </tr>\n",
       "    <tr>\n",
       "      <th>channel</th>\n",
       "      <th></th>\n",
       "      <th></th>\n",
       "      <th></th>\n",
       "    </tr>\n",
       "  </thead>\n",
       "  <tbody>\n",
       "    <tr>\n",
       "      <th>Multichannel</th>\n",
       "      <td>0.308168</td>\n",
       "      <td>2392</td>\n",
       "      <td>7762</td>\n",
       "    </tr>\n",
       "    <tr>\n",
       "      <th>Phone</th>\n",
       "      <td>0.444559</td>\n",
       "      <td>12457</td>\n",
       "      <td>28021</td>\n",
       "    </tr>\n",
       "    <tr>\n",
       "      <th>Web</th>\n",
       "      <td>0.445334</td>\n",
       "      <td>12566</td>\n",
       "      <td>28217</td>\n",
       "    </tr>\n",
       "  </tbody>\n",
       "</table>\n",
       "</div>"
      ],
      "text/plain": [
       "                 churn              \n",
       "                  mean    sum  count\n",
       "channel                             \n",
       "Multichannel  0.308168   2392   7762\n",
       "Phone         0.444559  12457  28021\n",
       "Web           0.445334  12566  28217"
      ]
     },
     "execution_count": 96,
     "metadata": {},
     "output_type": "execute_result"
    }
   ],
   "source": [
    "churn_results_df = df.groupby('channel').agg({'churn':['mean', 'sum', 'count']})\n",
    "churn_results_df"
   ]
  },
  {
   "cell_type": "markdown",
   "metadata": {},
   "source": [
    "> Neither of the variables above (zip code, channel) seem to have a significant relationship with churn. It does seem that multichannel customers do have a lower chance of churn. Let's investigate this with a statistical test. "
   ]
  },
  {
   "cell_type": "code",
   "execution_count": 97,
   "metadata": {},
   "outputs": [],
   "source": [
    "# define function to output chi-squared test and results\n",
    "def chi2results(var1, var2, prob):\n",
    "    observed = pd.crosstab(var1, var2)\n",
    "    chi_square, p_val, dof, expected = chi2_contingency(observed)\n",
    "    critical = chi2.ppf(prob, dof)\n",
    "    \n",
    "    if abs(chi_square) >= critical:\n",
    "        result = 'Dependent (reject H0)'\n",
    "    else:\n",
    "        result = 'Independent (fail to reject H0)'\n",
    "    alpha = 1.0 - prob\n",
    "    \n",
    "    return chi_square, critical, p_val, dof, alpha, result"
   ]
  },
  {
   "cell_type": "code",
   "execution_count": 98,
   "metadata": {},
   "outputs": [
    {
     "name": "stdout",
     "output_type": "stream",
     "text": [
      "channel  Multichannel  Phone    Web\n",
      "churn                              \n",
      "0                5370  15564  15651\n",
      "1                2392  12457  12566\n"
     ]
    }
   ],
   "source": [
    "# two way table of market segment vs cancellations\n",
    "observed = pd.crosstab(df.churn, df.channel)\n",
    "print(observed)"
   ]
  },
  {
   "cell_type": "code",
   "execution_count": 99,
   "metadata": {},
   "outputs": [
    {
     "name": "stdout",
     "output_type": "stream",
     "text": [
      "results of chi squared test: Dependent (reject H0)\n"
     ]
    }
   ],
   "source": [
    "res = chi2results(df['churn'], df['channel'], prob = 0.95)\n",
    "print('results of chi squared test: {}'.format(res[5]))"
   ]
  },
  {
   "cell_type": "markdown",
   "metadata": {},
   "source": [
    "> There is something about the multichannel customers that improves the likelihood of not churning."
   ]
  },
  {
   "cell_type": "code",
   "execution_count": 100,
   "metadata": {},
   "outputs": [
    {
     "data": {
      "text/html": [
       "<div>\n",
       "<style scoped>\n",
       "    .dataframe tbody tr th:only-of-type {\n",
       "        vertical-align: middle;\n",
       "    }\n",
       "\n",
       "    .dataframe tbody tr th {\n",
       "        vertical-align: top;\n",
       "    }\n",
       "\n",
       "    .dataframe thead tr th {\n",
       "        text-align: left;\n",
       "    }\n",
       "\n",
       "    .dataframe thead tr:last-of-type th {\n",
       "        text-align: right;\n",
       "    }\n",
       "</style>\n",
       "<table border=\"1\" class=\"dataframe\">\n",
       "  <thead>\n",
       "    <tr>\n",
       "      <th></th>\n",
       "      <th colspan=\"3\" halign=\"left\">churn</th>\n",
       "    </tr>\n",
       "    <tr>\n",
       "      <th></th>\n",
       "      <th>mean</th>\n",
       "      <th>sum</th>\n",
       "      <th>count</th>\n",
       "    </tr>\n",
       "    <tr>\n",
       "      <th>offer</th>\n",
       "      <th></th>\n",
       "      <th></th>\n",
       "      <th></th>\n",
       "    </tr>\n",
       "  </thead>\n",
       "  <tbody>\n",
       "    <tr>\n",
       "      <th>Buy One Get One</th>\n",
       "      <td>0.427736</td>\n",
       "      <td>9148</td>\n",
       "      <td>21387</td>\n",
       "    </tr>\n",
       "    <tr>\n",
       "      <th>Discount</th>\n",
       "      <td>0.430140</td>\n",
       "      <td>9165</td>\n",
       "      <td>21307</td>\n",
       "    </tr>\n",
       "    <tr>\n",
       "      <th>No Offer</th>\n",
       "      <td>0.427204</td>\n",
       "      <td>9102</td>\n",
       "      <td>21306</td>\n",
       "    </tr>\n",
       "  </tbody>\n",
       "</table>\n",
       "</div>"
      ],
      "text/plain": [
       "                    churn             \n",
       "                     mean   sum  count\n",
       "offer                                 \n",
       "Buy One Get One  0.427736  9148  21387\n",
       "Discount         0.430140  9165  21307\n",
       "No Offer         0.427204  9102  21306"
      ]
     },
     "execution_count": 100,
     "metadata": {},
     "output_type": "execute_result"
    }
   ],
   "source": [
    "churn_results_df = df.groupby('offer').agg({'churn':['mean', 'sum', 'count']})\n",
    "churn_results_df"
   ]
  },
  {
   "cell_type": "markdown",
   "metadata": {},
   "source": [
    "> The treatment options luckily do not differ significantly in their effect on churn. This could however still be a factor to consider when manipulating variables to maximize the number of persuadable customers. "
   ]
  },
  {
   "cell_type": "markdown",
   "metadata": {},
   "source": [
    "## Resampling"
   ]
  },
  {
   "cell_type": "code",
   "execution_count": 101,
   "metadata": {},
   "outputs": [
    {
     "name": "stdout",
     "output_type": "stream",
     "text": [
      "Class 0: 21306\n",
      "Class 1: 42694\n",
      "Proportion: 2 : 1\n"
     ]
    },
    {
     "data": {
      "text/plain": [
       "(array([1, 0]), [Text(1, 0, '1'), Text(0, 0, '0')])"
      ]
     },
     "execution_count": 101,
     "metadata": {},
     "output_type": "execute_result"
    },
    {
     "data": {
      "image/png": "[encoded data removed]",
      "text/plain": [
       "<Figure size 720x432 with 1 Axes>"
      ]
     },
     "metadata": {},
     "output_type": "display_data"
    }
   ],
   "source": [
    "fig = plt.figure(figsize = (10,6))\n",
    "target_count = df['treatment'].value_counts()\n",
    "print('Class 0:', target_count[0])\n",
    "print('Class 1:', target_count[1])\n",
    "print('Proportion:', int(round(target_count[1] / target_count[0])), ': 1')\n",
    "target_count.plot(kind='bar', title='Treatment Class Distribution', color=['#2077B4', '#FF7F0E'], fontsize = 15)\n",
    "plt.xticks(rotation=0) "
   ]
  },
  {
   "cell_type": "markdown",
   "metadata": {},
   "source": [
    "> Uplift models assume the treatment and control groups are of equal size, so there is a need to resample here to balance the class. Before resampling however a train, test split will be performed for analyzing results on a realistically distributed test set."
   ]
  },
  {
   "cell_type": "code",
   "execution_count": 102,
   "metadata": {},
   "outputs": [],
   "source": [
    "train, test  = train_test_split(df, test_size=0.2, random_state=94, stratify=df['treatment'])"
   ]
  },
  {
   "cell_type": "code",
   "execution_count": 103,
   "metadata": {},
   "outputs": [
    {
     "data": {
      "text/plain": [
       "1    34155\n",
       "0    17045\n",
       "Name: treatment, dtype: int64"
      ]
     },
     "execution_count": 103,
     "metadata": {},
     "output_type": "execute_result"
    }
   ],
   "source": [
    "train['treatment'].value_counts()"
   ]
  },
  {
   "cell_type": "code",
   "execution_count": 104,
   "metadata": {},
   "outputs": [],
   "source": [
    "def random_under(df:pd.DataFrame, feature):\n",
    "    \n",
    "    target = df[feature].value_counts()\n",
    "    \n",
    "    if target.values[0]<target.values[1]:\n",
    "        under = target.index.values[1]\n",
    "    \n",
    "    else: \n",
    "        under = target.index.values[0]\n",
    "        \n",
    "    df_0 = df[df[feature] != under]\n",
    "    df_1 = df[df[feature] == under]\n",
    "    \n",
    "    df_treatment_under = df_1.sample(len(df_0))\n",
    "    df_1 = pd.concat([df_treatment_under, df_0], axis=0)\n",
    "    \n",
    "    return df_1"
   ]
  },
  {
   "cell_type": "code",
   "execution_count": 105,
   "metadata": {},
   "outputs": [],
   "source": [
    "train = random_under(train, 'treatment')"
   ]
  },
  {
   "cell_type": "code",
   "execution_count": 106,
   "metadata": {},
   "outputs": [
    {
     "name": "stdout",
     "output_type": "stream",
     "text": [
      "Class 0: 17045\n",
      "Class 1: 17045\n",
      "Proportion: 1 : 1\n"
     ]
    },
    {
     "data": {
      "text/plain": [
       "(array([0, 1]), [Text(0, 0, '0'), Text(1, 0, '1')])"
      ]
     },
     "execution_count": 106,
     "metadata": {},
     "output_type": "execute_result"
    },
    {
     "data": {
      "image/png": "[encoded data removed]",
      "text/plain": [
       "<Figure size 720x432 with 1 Axes>"
      ]
     },
     "metadata": {},
     "output_type": "display_data"
    }
   ],
   "source": [
    "fig = plt.figure(figsize = (10,6))\n",
    "new_target_count = train['treatment'].value_counts()\n",
    "print('Class 0:', new_target_count[0])\n",
    "print('Class 1:', new_target_count[1])\n",
    "print('Proportion:', int(round(new_target_count[0] / new_target_count[1])), ': 1')\n",
    "new_target_count.plot(kind='bar', title='Target Class Distribution', color=['#2077B4', '#FF7F0E'], fontsize = 15)\n",
    "plt.xticks(rotation=0) "
   ]
  },
  {
   "cell_type": "code",
   "execution_count": 108,
   "metadata": {},
   "outputs": [],
   "source": [
    "X=train.drop(['churn', 'recency'], axis=1)  # Features\n",
    "y=train['churn']  # Labels\n",
    "\n",
    "X_train, X_val, y_train, y_val = train_test_split(X, y, test_size=0.25, random_state=1, stratify=X['treatment'])\n",
    "\n",
    "models_results = {\n",
    "    'approach': [],\n",
    "    'uplift@30%': []\n",
    "}"
   ]
  },
  {
   "cell_type": "code",
   "execution_count": 109,
   "metadata": {},
   "outputs": [],
   "source": [
    "indices_learn = list(X_train.index)\n",
    "indices_valid = list(X_val.index)\n",
    "treat_train = X_train.loc[indices_learn, 'treatment']\n",
    "treat_val =  X_val.loc[indices_valid, 'treatment']"
   ]
  },
  {
   "cell_type": "code",
   "execution_count": 110,
   "metadata": {},
   "outputs": [],
   "source": [
    "# installation instructions: https://github.com/maks-sh/scikit-uplift\n",
    "# link to the documentation: https://scikit-uplift.readthedocs.io/en/latest/\n",
    "from sklift.metrics import uplift_at_k\n",
    "from sklift.viz import plot_uplift_preds\n",
    "from sklift.models import SoloModel\n",
    "\n",
    "# sklift supports all models, \n",
    "# that satisfy scikit-learn convention\n",
    "# for example, let's use catboost\n",
    "from catboost import CatBoostClassifier\n",
    "\n",
    "cat_features = list(df.select_dtypes(exclude=['float', 'int']).columns.difference(['Churn']))\n",
    "sm = SoloModel(CatBoostClassifier(iterations=20, thread_count=2, random_state=42, silent=True))\n",
    "sm = sm.fit(X_train, y_train, treat_train, estimator_fit_params={'cat_features': cat_features})\n",
    "\n",
    "uplift_sm = sm.predict(X_val)\n",
    "\n",
    "sm_score = uplift_at_k(y_true=y_val, uplift=uplift_sm, treatment=treat_val, strategy='by_group', k=0.3)\n",
    "\n",
    "models_results['approach'].append('SoloModel')\n",
    "models_results['uplift@30%'].append(sm_score)"
   ]
  },
  {
   "cell_type": "code",
   "execution_count": 111,
   "metadata": {},
   "outputs": [],
   "source": [
    "def plot_uplift_preds(trmnt_preds, ctrl_preds, log=False, bins=100):\n",
    "    \"\"\"Plot histograms of treatment, control and uplift predictions.\n",
    "\n",
    "    Args:\n",
    "        trmnt_preds (1d array-like): Predictions for all observations if they are treatment.\n",
    "        ctrl_preds (1d array-like): Predictions for all observations if they are control.\n",
    "        log (bool): Logarithm of source samples. Default is False.\n",
    "        bins (integer or sequence): Number of histogram bins to be used. Default is 100.\n",
    "            If an integer is given, bins + 1 bin edges are calculated and returned.\n",
    "            If bins is a sequence, gives bin edges, including left edge of first bin and right edge of last bin.\n",
    "            In this case, bins is returned unmodified. Default is 100.\n",
    "\n",
    "    Returns:\n",
    "        Object that stores computed values.\n",
    "    \"\"\"\n",
    "\n",
    "    # TODO: Add k as parameter: vertical line on plots\n",
    "    #check_consistent_length(trmnt_preds, ctrl_preds)\n",
    "    #check_is_binary(treatment)\n",
    "\n",
    "    if not isinstance(bins, int) or bins <= 0:\n",
    "        raise ValueError(\n",
    "            f'Bins should be positive integer. Invalid value for bins: {bins}')\n",
    "\n",
    "    if log:\n",
    "        trmnt_preds = np.log(trmnt_preds + 1)\n",
    "        ctrl_preds = np.log(ctrl_preds + 1)\n",
    "\n",
    "    fig, axes = plt.subplots(ncols=3, nrows=1, figsize=(20, 7))\n",
    "    axes[0].hist(\n",
    "        trmnt_preds, bins=bins, alpha=0.3, color='b', label='Treated', histtype='stepfilled')\n",
    "    axes[0].set_ylabel('Probability hist')\n",
    "    axes[0].legend()\n",
    "    axes[0].set_title('Treatment predictions')\n",
    "\n",
    "    axes[1].hist(\n",
    "        ctrl_preds, bins=bins, alpha=0.5, color='y', label='Not treated', histtype='stepfilled')\n",
    "    axes[1].legend()\n",
    "    axes[1].set_title('Control predictions')\n",
    "\n",
    "    axes[2].hist(\n",
    "        trmnt_preds - ctrl_preds, bins=bins, alpha=0.5, color='green', label='Uplift', histtype='stepfilled')\n",
    "    axes[2].legend()\n",
    "    axes[2].set_title('Uplift predictions')\n",
    "\n",
    "    return axes"
   ]
  },
  {
   "cell_type": "code",
   "execution_count": 112,
   "metadata": {},
   "outputs": [
    {
     "data": {
      "image/png": "[encoded data removed]",
      "text/plain": [
       "<Figure size 1440x504 with 3 Axes>"
      ]
     },
     "metadata": {},
     "output_type": "display_data"
    }
   ],
   "source": [
    "# get conditional probabilities (predictions) of performing the target action \n",
    "# during interaction for each object\n",
    "sm_trmnt_preds = sm.trmnt_preds_\n",
    "# And conditional probabilities (predictions) of performing the target action \n",
    "# without interaction for each object\n",
    "sm_ctrl_preds = sm.ctrl_preds_\n",
    "\n",
    "# draw the probability (predictions) distributions and their difference (uplift)\n",
    "plot_uplift_preds(trmnt_preds=sm_trmnt_preds, ctrl_preds=sm_ctrl_preds);"
   ]
  },
  {
   "cell_type": "code",
   "execution_count": 113,
   "metadata": {},
   "outputs": [
    {
     "data": {
      "text/html": [
       "<div>\n",
       "<style scoped>\n",
       "    .dataframe tbody tr th:only-of-type {\n",
       "        vertical-align: middle;\n",
       "    }\n",
       "\n",
       "    .dataframe tbody tr th {\n",
       "        vertical-align: top;\n",
       "    }\n",
       "\n",
       "    .dataframe thead th {\n",
       "        text-align: right;\n",
       "    }\n",
       "</style>\n",
       "<table border=\"1\" class=\"dataframe\">\n",
       "  <thead>\n",
       "    <tr style=\"text-align: right;\">\n",
       "      <th></th>\n",
       "      <th>feature_name</th>\n",
       "      <th>feature_score</th>\n",
       "    </tr>\n",
       "  </thead>\n",
       "  <tbody>\n",
       "    <tr>\n",
       "      <th>0</th>\n",
       "      <td>history</td>\n",
       "      <td>56.090736</td>\n",
       "    </tr>\n",
       "    <tr>\n",
       "      <th>1</th>\n",
       "      <td>conversion</td>\n",
       "      <td>19.094999</td>\n",
       "    </tr>\n",
       "    <tr>\n",
       "      <th>2</th>\n",
       "      <td>is_referral</td>\n",
       "      <td>7.948155</td>\n",
       "    </tr>\n",
       "    <tr>\n",
       "      <th>3</th>\n",
       "      <td>treatment</td>\n",
       "      <td>5.693956</td>\n",
       "    </tr>\n",
       "    <tr>\n",
       "      <th>4</th>\n",
       "      <td>used_discount</td>\n",
       "      <td>3.808432</td>\n",
       "    </tr>\n",
       "    <tr>\n",
       "      <th>5</th>\n",
       "      <td>used_bogo</td>\n",
       "      <td>2.661332</td>\n",
       "    </tr>\n",
       "    <tr>\n",
       "      <th>6</th>\n",
       "      <td>channel</td>\n",
       "      <td>2.564035</td>\n",
       "    </tr>\n",
       "    <tr>\n",
       "      <th>7</th>\n",
       "      <td>offer</td>\n",
       "      <td>1.104698</td>\n",
       "    </tr>\n",
       "    <tr>\n",
       "      <th>8</th>\n",
       "      <td>zip_code</td>\n",
       "      <td>1.033656</td>\n",
       "    </tr>\n",
       "  </tbody>\n",
       "</table>\n",
       "</div>"
      ],
      "text/plain": [
       "    feature_name  feature_score\n",
       "0        history      56.090736\n",
       "1     conversion      19.094999\n",
       "2    is_referral       7.948155\n",
       "3      treatment       5.693956\n",
       "4  used_discount       3.808432\n",
       "5      used_bogo       2.661332\n",
       "6        channel       2.564035\n",
       "7          offer       1.104698\n",
       "8       zip_code       1.033656"
      ]
     },
     "execution_count": 113,
     "metadata": {},
     "output_type": "execute_result"
    }
   ],
   "source": [
    "# You can also access the trained model with the same ease.\n",
    "# For example, to build the importance of features:\n",
    "sm_fi = pd.DataFrame({\n",
    "    'feature_name': sm.estimator.feature_names_,\n",
    "    'feature_score': sm.estimator.feature_importances_\n",
    "}).sort_values('feature_score', ascending=False).reset_index(drop=True)\n",
    "\n",
    "sm_fi"
   ]
  },
  {
   "cell_type": "markdown",
   "metadata": {},
   "source": [
    "> A customers history not suprisingly is the strongest predictor of churn. Behind this is conversion which reveals that customers that are not churned are more likely to take advantage of the the treatment offer."
   ]
  },
  {
   "cell_type": "code",
   "execution_count": 119,
   "metadata": {},
   "outputs": [
    {
     "data": {
      "text/html": [
       "<div>\n",
       "<style scoped>\n",
       "    .dataframe tbody tr th:only-of-type {\n",
       "        vertical-align: middle;\n",
       "    }\n",
       "\n",
       "    .dataframe tbody tr th {\n",
       "        vertical-align: top;\n",
       "    }\n",
       "\n",
       "    .dataframe thead th {\n",
       "        text-align: right;\n",
       "    }\n",
       "</style>\n",
       "<table border=\"1\" class=\"dataframe\">\n",
       "  <thead>\n",
       "    <tr style=\"text-align: right;\">\n",
       "      <th></th>\n",
       "      <th>history</th>\n",
       "      <th>used_discount</th>\n",
       "      <th>used_bogo</th>\n",
       "      <th>is_referral</th>\n",
       "      <th>conversion</th>\n",
       "      <th>treatment</th>\n",
       "    </tr>\n",
       "  </thead>\n",
       "  <tbody>\n",
       "    <tr>\n",
       "      <th>count</th>\n",
       "      <td>8523.000000</td>\n",
       "      <td>8523.000000</td>\n",
       "      <td>8523.000000</td>\n",
       "      <td>8523.000000</td>\n",
       "      <td>8523.000000</td>\n",
       "      <td>8523.000000</td>\n",
       "    </tr>\n",
       "    <tr>\n",
       "      <th>mean</th>\n",
       "      <td>240.453265</td>\n",
       "      <td>0.546521</td>\n",
       "      <td>0.552388</td>\n",
       "      <td>0.506394</td>\n",
       "      <td>0.137158</td>\n",
       "      <td>0.500059</td>\n",
       "    </tr>\n",
       "    <tr>\n",
       "      <th>std</th>\n",
       "      <td>253.649198</td>\n",
       "      <td>0.497860</td>\n",
       "      <td>0.497277</td>\n",
       "      <td>0.499988</td>\n",
       "      <td>0.344035</td>\n",
       "      <td>0.500029</td>\n",
       "    </tr>\n",
       "    <tr>\n",
       "      <th>min</th>\n",
       "      <td>29.990000</td>\n",
       "      <td>0.000000</td>\n",
       "      <td>0.000000</td>\n",
       "      <td>0.000000</td>\n",
       "      <td>0.000000</td>\n",
       "      <td>0.000000</td>\n",
       "    </tr>\n",
       "    <tr>\n",
       "      <th>25%</th>\n",
       "      <td>64.660000</td>\n",
       "      <td>0.000000</td>\n",
       "      <td>0.000000</td>\n",
       "      <td>0.000000</td>\n",
       "      <td>0.000000</td>\n",
       "      <td>0.000000</td>\n",
       "    </tr>\n",
       "    <tr>\n",
       "      <th>50%</th>\n",
       "      <td>157.760000</td>\n",
       "      <td>1.000000</td>\n",
       "      <td>1.000000</td>\n",
       "      <td>1.000000</td>\n",
       "      <td>0.000000</td>\n",
       "      <td>1.000000</td>\n",
       "    </tr>\n",
       "    <tr>\n",
       "      <th>75%</th>\n",
       "      <td>322.965000</td>\n",
       "      <td>1.000000</td>\n",
       "      <td>1.000000</td>\n",
       "      <td>1.000000</td>\n",
       "      <td>0.000000</td>\n",
       "      <td>1.000000</td>\n",
       "    </tr>\n",
       "    <tr>\n",
       "      <th>max</th>\n",
       "      <td>2859.630000</td>\n",
       "      <td>1.000000</td>\n",
       "      <td>1.000000</td>\n",
       "      <td>1.000000</td>\n",
       "      <td>1.000000</td>\n",
       "      <td>1.000000</td>\n",
       "    </tr>\n",
       "  </tbody>\n",
       "</table>\n",
       "</div>"
      ],
      "text/plain": [
       "           history  used_discount    used_bogo  is_referral   conversion  \\\n",
       "count  8523.000000    8523.000000  8523.000000  8523.000000  8523.000000   \n",
       "mean    240.453265       0.546521     0.552388     0.506394     0.137158   \n",
       "std     253.649198       0.497860     0.497277     0.499988     0.344035   \n",
       "min      29.990000       0.000000     0.000000     0.000000     0.000000   \n",
       "25%      64.660000       0.000000     0.000000     0.000000     0.000000   \n",
       "50%     157.760000       1.000000     1.000000     1.000000     0.000000   \n",
       "75%     322.965000       1.000000     1.000000     1.000000     0.000000   \n",
       "max    2859.630000       1.000000     1.000000     1.000000     1.000000   \n",
       "\n",
       "         treatment  \n",
       "count  8523.000000  \n",
       "mean      0.500059  \n",
       "std       0.500029  \n",
       "min       0.000000  \n",
       "25%       0.000000  \n",
       "50%       1.000000  \n",
       "75%       1.000000  \n",
       "max       1.000000  "
      ]
     },
     "execution_count": 119,
     "metadata": {},
     "output_type": "execute_result"
    }
   ],
   "source": [
    "X_val.describe()"
   ]
  },
  {
   "cell_type": "code",
   "execution_count": 114,
   "metadata": {},
   "outputs": [
    {
     "name": "stderr",
     "output_type": "stream",
     "text": [
      "/Users/mattmerrill/opt/anaconda3/lib/python3.7/site-packages/ipykernel_launcher.py:5: UserWarning: It is recommended to use this approach on treatment balanced data. Current sample size is unbalanced.\n",
      "  \"\"\"\n"
     ]
    }
   ],
   "source": [
    "from sklift.models import ClassTransformation\n",
    "\n",
    "\n",
    "ct = ClassTransformation(CatBoostClassifier(iterations=20, thread_count=2, random_state=42, silent=True))\n",
    "ct = ct.fit(X_train, y_train, treat_train, estimator_fit_params={'cat_features': cat_features})\n",
    "\n",
    "uplift_ct = ct.predict(X_val)\n",
    "\n",
    "ct_score = uplift_at_k(y_true=y_val, uplift=uplift_ct, treatment=treat_val, strategy='by_group', k=0.3)\n",
    "\n",
    "models_results['approach'].append('ClassTransformation')\n",
    "models_results['uplift@30%'].append(ct_score)"
   ]
  },
  {
   "cell_type": "code",
   "execution_count": 120,
   "metadata": {},
   "outputs": [
    {
     "data": {
      "text/html": [
       "<div>\n",
       "<style scoped>\n",
       "    .dataframe tbody tr th:only-of-type {\n",
       "        vertical-align: middle;\n",
       "    }\n",
       "\n",
       "    .dataframe tbody tr th {\n",
       "        vertical-align: top;\n",
       "    }\n",
       "\n",
       "    .dataframe thead th {\n",
       "        text-align: right;\n",
       "    }\n",
       "</style>\n",
       "<table border=\"1\" class=\"dataframe\">\n",
       "  <thead>\n",
       "    <tr style=\"text-align: right;\">\n",
       "      <th></th>\n",
       "      <th>approach</th>\n",
       "      <th>uplift@30%</th>\n",
       "    </tr>\n",
       "  </thead>\n",
       "  <tbody>\n",
       "    <tr>\n",
       "      <th>1</th>\n",
       "      <td>ClassTransformation</td>\n",
       "      <td>0.256651</td>\n",
       "    </tr>\n",
       "    <tr>\n",
       "      <th>0</th>\n",
       "      <td>SoloModel</td>\n",
       "      <td>0.016432</td>\n",
       "    </tr>\n",
       "  </tbody>\n",
       "</table>\n",
       "</div>"
      ],
      "text/plain": [
       "              approach  uplift@30%\n",
       "1  ClassTransformation    0.256651\n",
       "0            SoloModel    0.016432"
      ]
     },
     "execution_count": 120,
     "metadata": {},
     "output_type": "execute_result"
    }
   ],
   "source": [
    "pd.DataFrame(data=models_results).sort_values('uplift@30%', ascending=False)"
   ]
  },
  {
   "cell_type": "code",
   "execution_count": 121,
   "metadata": {},
   "outputs": [
    {
     "data": {
      "text/plain": [
       "<AxesSubplot:title={'center':'Qini curve\\nqini_auc_score=0.0783'}, xlabel='Number targeted', ylabel='Number of incremental outcome'>"
      ]
     },
     "execution_count": 121,
     "metadata": {},
     "output_type": "execute_result"
    },
    {
     "data": {
      "image/png": "[encoded data removed]",
      "text/plain": [
       "<Figure size 576x432 with 1 Axes>"
      ]
     },
     "metadata": {},
     "output_type": "display_data"
    }
   ],
   "source": [
    "# import vizualisation tools\n",
    "from sklift.viz import plot_qini_curve\n",
    "\n",
    "plot_qini_curve(y_true=y_val, uplift=uplift_ct, treatment=treat_val, negative_effect=True)"
   ]
  },
  {
   "cell_type": "code",
   "execution_count": null,
   "metadata": {},
   "outputs": [],
   "source": []
  }
 ],
 "metadata": {
  "kernelspec": {
   "display_name": "Python 3",
   "language": "python",
   "name": "python3"
  },
  "language_info": {
   "codemirror_mode": {
    "name": "ipython",
    "version": 3
   },
   "file_extension": ".py",
   "mimetype": "text/x-python",
   "name": "python",
   "nbconvert_exporter": "python",
   "pygments_lexer": "ipython3",
   "version": "3.7.4"
  }
 },
 "nbformat": 4,
 "nbformat_minor": 2
}
